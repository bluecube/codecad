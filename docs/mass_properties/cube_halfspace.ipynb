{
 "cells": [
  {
   "cell_type": "code",
   "execution_count": 1,
   "metadata": {},
   "outputs": [
    {
     "data": {
      "image/png": "[encoded data removed]",
      "text/latex": [
       "$$\\left ( n_{x}, \\quad n_{y}, \\quad n_{z}, \\quad d\\right )$$"
      ],
      "text/plain": [
       "(nₓ, n_y, n_z, d)"
      ]
     },
     "execution_count": 1,
     "metadata": {},
     "output_type": "execute_result"
    }
   ],
   "source": [
    "import sympy\n",
    "sympy.init_printing()\n",
    "sympy.var(\"x, y, z\", real=True)\n",
    "sympy.var(\"n_x, n_y, n_z, d\", positive=True)"
   ]
  },
  {
   "cell_type": "markdown",
   "metadata": {
    "collapsed": true
   },
   "source": [
    "# Volume of cube and half-space intersection\n",
    "\n",
    "Calculating volume of intersection of cube $[-1, 1]^3$ and half-space $x n_x + y n_y + z n_z < d$\n",
    "\n",
    "## Symmetry removal\n",
    "This algorithm works by first normalizing all symmetries of the problem.\n",
    "This means that we can only look at the $z = 1$ surface of the cube and limits the possible shapes of the intersections.\n",
    "\n",
    "Since we are only interested interested in volume, rotations and flips don't change the result and we don't need to keep track of what normalization steps we do.\n",
    "The only exception is negating distance, which corresponds to switching the meaning of inside/outside of the half-space and the result must be compensated for this.\n",
    "\n",
    "The conditions for normalized state are: $n_z \\geq n_y \\geq n_x \\geq 0$ and $d \\geq 0$, giving us the following cases:\n",
    "\n",
    "![Cases after symmetry removal](cube_halfspace_cases.svg)\n",
    "Red parts have ceiling of $+1$, white parts have ceiling $x n_x + y n_y + z n_z = d$. In case 1b the brown part does not contribute any volume. Black dots are locations used for determining cases, grey lines split the cases into individual integrals."
   ]
  },
  {
   "cell_type": "markdown",
   "metadata": {},
   "source": [
    "## Calculating the volumes"
   ]
  },
  {
   "cell_type": "code",
   "execution_count": 2,
   "metadata": {},
   "outputs": [
    {
     "data": {
      "image/png": "[encoded data removed]",
      "text/latex": [
       "$$n_{x} x + n_{y} y + n_{z} z = d$$"
      ],
      "text/plain": [
       "nₓ⋅x + n_y⋅y + n_z⋅z = d"
      ]
     },
     "execution_count": 2,
     "metadata": {},
     "output_type": "execute_result"
    }
   ],
   "source": [
    "plane_eq = sympy.Eq(x * n_x + y * n_y + z * n_z, d)\n",
    "plane_eq"
   ]
  },
  {
   "cell_type": "code",
   "execution_count": 3,
   "metadata": {},
   "outputs": [
    {
     "data": {
      "image/png": "[encoded data removed]",
      "text/latex": [
       "$$\\frac{d}{n_{z}} - \\frac{n_{x} x}{n_{z}} - \\frac{n_{y} y}{n_{z}}$$"
      ],
      "text/plain": [
       " d    nₓ⋅x   n_y⋅y\n",
       "─── - ──── - ─────\n",
       "n_z   n_z     n_z "
      ]
     },
     "execution_count": 3,
     "metadata": {},
     "output_type": "execute_result"
    }
   ],
   "source": [
    "ceiling = next(iter(sympy.solveset(plane_eq, z))).expand()\n",
    "ceiling"
   ]
  },
  {
   "cell_type": "code",
   "execution_count": 4,
   "metadata": {
    "collapsed": true
   },
   "outputs": [],
   "source": [
    "def lerp(x, x1, x2, y1, y2):\n",
    "    return (y1 + (y2 - y1) * (x - x1) / (x2 - x1)).simplify()\n",
    "\n",
    "def area_integral(z_max_expr, x1, y1min, y1max, x2, y2min, y2max):\n",
    "    return sympy.integrate(1, (z, -1, z_max_expr), (y, lerp(x, x1, x2, y1min, y2min), lerp(x, x1, x2, y1max, y2max)), (x, x1, x2))\n",
    "\n",
    "def edge_intersection(variable, axis1, value1, axis2=z, value2=1):\n",
    "    solved = sympy.solveset(plane_eq.subs(axis1, value1).subs(axis2, value2), variable)\n",
    "    expr = next(iter(solved)).expand()\n",
    "    return expr\n",
    "\n",
    "def s(expr):\n",
    "    simplified = sympy.collect_const(expr.expand().factor().collect([d]))\n",
    "    return simplified\n",
    "\n",
    "def unexpand(expr, a):\n",
    "    return expr.subs(a.expand(), a)\n",
    "\n",
    "def check(a, b):\n",
    "    assert a.expand() == b.expand()\n",
    "    return b"
   ]
  },
  {
   "cell_type": "markdown",
   "metadata": {},
   "source": [
    "### Case 0:"
   ]
  },
  {
   "cell_type": "code",
   "execution_count": 5,
   "metadata": {
    "scrolled": true
   },
   "outputs": [
    {
     "data": {
      "image/png": "[encoded data removed]",
      "text/latex": [
       "$$\\frac{4}{n_{z}} \\left(d + n_{z}\\right)$$"
      ],
      "text/plain": [
       "4⋅(d + n_z)\n",
       "───────────\n",
       "    n_z    "
      ]
     },
     "execution_count": 5,
     "metadata": {},
     "output_type": "execute_result"
    }
   ],
   "source": [
    "v0 = s(area_integral(ceiling, -1, -1, 1, 1, -1, 1))\n",
    "v0"
   ]
  },
  {
   "cell_type": "markdown",
   "metadata": {},
   "source": [
    "In case 0 the plane does not intersect cubes $Z = \\pm1$ sides."
   ]
  },
  {
   "cell_type": "markdown",
   "metadata": {
    "collapsed": true
   },
   "source": [
    "### Case 1a:"
   ]
  },
  {
   "cell_type": "code",
   "execution_count": 6,
   "metadata": {},
   "outputs": [
    {
     "data": {
      "image/png": "[encoded data removed]",
      "text/latex": [
       "$$\\frac{4}{n_{z}} \\left(d + n_{z}\\right) - \\frac{\\left(d + n_{x} + n_{y} - n_{z}\\right)^{3}}{6 n_{x} n_{y} n_{z}}$$"
      ],
      "text/plain": [
       "                                  3\n",
       "4⋅(d + n_z)   (d + nₓ + n_y - n_z) \n",
       "─────────── - ─────────────────────\n",
       "    n_z            6⋅nₓ⋅n_y⋅n_z    "
      ]
     },
     "execution_count": 6,
     "metadata": {},
     "output_type": "execute_result"
    }
   ],
   "source": [
    "x_1 = edge_intersection(x, y, -1)\n",
    "y_1 = edge_intersection(y, x, -1)\n",
    "v1a = s(area_integral(1, -1, -1, y_1, x_1, -1, -1) +\n",
    "        area_integral(ceiling, -1, y_1, 1, x_1, -1, 1) +\n",
    "        area_integral(ceiling, x_1, -1, 1, 1, -1, 1))\n",
    "v1a = unexpand(v1a, 3 * (n_x + n_y - n_z)**2 - 24 * n_x * n_y)\n",
    "v1a = unexpand(v1a, (n_x + n_y - n_z)**3 - 24 * n_x * n_y * n_z)\n",
    "v1a = unexpand(v1a, 3 * (n_x + n_y - n_z))\n",
    "v1a = check(v1a, v0 - (d + n_x + n_y - n_z)**3 / (6 * n_x * n_y * n_z))\n",
    "v1a"
   ]
  },
  {
   "cell_type": "markdown",
   "metadata": {},
   "source": [
    "Like case 0, but with trirectangular tetrahedron subtracted at corner $(-1, -1, 1)$."
   ]
  },
  {
   "cell_type": "markdown",
   "metadata": {
    "collapsed": true
   },
   "source": [
    "### Case 1b"
   ]
  },
  {
   "cell_type": "code",
   "execution_count": 7,
   "metadata": {},
   "outputs": [
    {
     "data": {
      "image/png": "[encoded data removed]",
      "text/latex": [
       "$$- \\frac{d}{3 n_{x} n_{y} n_{z}} \\left(d^{2} + 3 \\left(n_{x} + n_{y} - n_{z}\\right)^{2}\\right) + \\frac{4}{n_{z}} \\left(d + n_{z}\\right)$$"
      ],
      "text/plain": [
       "    ⎛ 2                     2⎞              \n",
       "  d⋅⎝d  + 3⋅(nₓ + n_y - n_z) ⎠   4⋅(d + n_z)\n",
       "- ──────────────────────────── + ───────────\n",
       "          3⋅nₓ⋅n_y⋅n_z               n_z    "
      ]
     },
     "execution_count": 7,
     "metadata": {},
     "output_type": "execute_result"
    }
   ],
   "source": [
    "x_1 = edge_intersection(x, y, -1)\n",
    "y_1 = edge_intersection(y, x, -1)\n",
    "x_2 = edge_intersection(x, y, 1, z, -1)\n",
    "y_2 = edge_intersection(y, x, 1, z, -1)\n",
    "v1b = s(area_integral(1, -1, -1, y_1, x_1, -1, -1) +\n",
    "        area_integral(ceiling, -1, y_1, 1, x_1, -1, 1) +\n",
    "        area_integral(ceiling, x_1, -1, 1, x_2, -1, 1) +\n",
    "        area_integral(ceiling, x_2, -1, 1, 1, -1, y_2))\n",
    "v1b = unexpand(v1b, 3 * (n_x + n_y - n_z)**2 - 12 * n_x * n_y)\n",
    "v1b = check(v1b, v0 - d * (d**2 + 3 * (n_x + n_y - n_z)**2) / (3 * n_x * n_y * n_z))\n",
    "v1b"
   ]
  },
  {
   "cell_type": "code",
   "execution_count": 8,
   "metadata": {},
   "outputs": [
    {
     "data": {
      "image/png": "[encoded data removed]",
      "text/latex": [
       "$$\\frac{4}{n_{z}} \\left(d + n_{z}\\right) - \\frac{\\left(d - n_{x} - n_{y} + n_{z}\\right)^{3}}{6 n_{x} n_{y} n_{z}} - \\frac{\\left(d + n_{x} + n_{y} - n_{z}\\right)^{3}}{6 n_{x} n_{y} n_{z}}$$"
      ],
      "text/plain": [
       "                                  3                       3\n",
       "4⋅(d + n_z)   (d - nₓ - n_y + n_z)    (d + nₓ + n_y - n_z) \n",
       "─────────── - ───────────────────── - ─────────────────────\n",
       "    n_z            6⋅nₓ⋅n_y⋅n_z            6⋅nₓ⋅n_y⋅n_z    "
      ]
     },
     "execution_count": 8,
     "metadata": {},
     "output_type": "execute_result"
    }
   ],
   "source": [
    "check(v1b, v1a - ((d + n_x + n_y -n_z)**3 - 6 * d**2 * (n_x + n_y - n_z) - 2 * (n_x + n_y - n_z)**3).expand().factor() / (6 * n_x * n_y * n_z))\n"
   ]
  },
  {
   "cell_type": "markdown",
   "metadata": {},
   "source": [
    "Like case 1a, but with additional trirectangular tetrahedron subtracted at corner $(1, 1, -1)$."
   ]
  },
  {
   "cell_type": "markdown",
   "metadata": {},
   "source": [
    "### Case 2"
   ]
  },
  {
   "cell_type": "code",
   "execution_count": 9,
   "metadata": {},
   "outputs": [
    {
     "data": {
      "image/png": "[encoded data removed]",
      "text/latex": [
       "$$8 - \\frac{1}{n_{y} n_{z}} \\left(\\frac{n_{x}^{2}}{3} + \\left(- d + n_{y} + n_{z}\\right)^{2}\\right)$$"
      ],
      "text/plain": [
       "      2                    \n",
       "    nₓ                    2\n",
       "    ─── + (-d + n_y + n_z) \n",
       "     3                     \n",
       "8 - ───────────────────────\n",
       "            n_y⋅n_z        "
      ]
     },
     "execution_count": 9,
     "metadata": {},
     "output_type": "execute_result"
    }
   ],
   "source": [
    "y_1 = edge_intersection(y, x, -1)\n",
    "y_2 = edge_intersection(y, x, 1)\n",
    "v2 = s(area_integral(1, -1, -1, y_1, 1, -1, y_2) +\n",
    "       area_integral(ceiling, -1, y_1, 1, 1, y_2, 1))\n",
    "v2 = unexpand(v2, 3 * (n_y + n_z)**2 - 24 * n_y * n_z + n_x**2)\n",
    "#v2 = unexpand(v2.expand().factor(), 3 * (d - n_y - n_z)**2)\n",
    "v2 = check(v2, 8 - (n_x**2/3 + (n_y + n_z - d)**2) / (n_y * n_z))\n",
    "v2"
   ]
  },
  {
   "cell_type": "code",
   "execution_count": 10,
   "metadata": {},
   "outputs": [
    {
     "data": {
      "image/png": "[encoded data removed]",
      "text/latex": [
       "$$8 + \\frac{\\left(d - n_{x} - n_{y} - n_{z}\\right)^{3}}{6 n_{x} n_{y} n_{z}} - \\frac{\\left(d + n_{x} - n_{y} - n_{z}\\right)^{3}}{6 n_{x} n_{y} n_{z}}$$"
      ],
      "text/plain": [
       "                        3                       3\n",
       "    (d - nₓ - n_y - n_z)    (d + nₓ - n_y - n_z) \n",
       "8 + ───────────────────── - ─────────────────────\n",
       "         6⋅nₓ⋅n_y⋅n_z            6⋅nₓ⋅n_y⋅n_z    "
      ]
     },
     "execution_count": 10,
     "metadata": {},
     "output_type": "execute_result"
    }
   ],
   "source": [
    "check(v2, 8 - ((d + n_x - n_y - n_z)**3 / (6 * n_x * n_y * n_z) - (d - n_x - n_y - n_z)**3 / (6 * n_x * n_y * n_z)))"
   ]
  },
  {
   "cell_type": "markdown",
   "metadata": {},
   "source": [
    "Whole cube with a weird prism-thingie subtracted along the $Y=1, Z=1$ edge."
   ]
  },
  {
   "cell_type": "markdown",
   "metadata": {},
   "source": [
    "### Case 3"
   ]
  },
  {
   "cell_type": "code",
   "execution_count": 11,
   "metadata": {},
   "outputs": [
    {
     "data": {
      "image/png": "[encoded data removed]",
      "text/latex": [
       "$$8 - \\frac{\\left(- d + n_{x} + n_{y} + n_{z}\\right)^{3}}{6 n_{x} n_{y} n_{z}}$$"
      ],
      "text/plain": [
       "                         3\n",
       "    (-d + nₓ + n_y + n_z) \n",
       "8 - ──────────────────────\n",
       "         6⋅nₓ⋅n_y⋅n_z     "
      ]
     },
     "execution_count": 11,
     "metadata": {},
     "output_type": "execute_result"
    }
   ],
   "source": [
    "x_1 = edge_intersection(x, y, 1)\n",
    "y_1 = edge_intersection(y, x, 1)\n",
    "v3 = s(area_integral(1, -1, -1, 1, x_1, -1, 1) +\n",
    "  area_integral(1, x_1, -1, 1, 1, -1, y_1) +\n",
    "  area_integral(ceiling, x_1, 1, 1, 1, y_1, 1))\n",
    "#z_1 = edge_intersection(z, x, 1, y, 1)\n",
    "#v3 = check(v3, 8 - (1 - x_1) * (1 - y_1) * (1 - z_1) / 6)\n",
    "v3 = unexpand(v3, 3 * (n_x + n_y + n_z)**2)\n",
    "v3 = unexpand(v3, -(n_x + n_y + n_z)**3 + 48* n_x * n_y * n_z)\n",
    "v3 = check(v3, 8 - (n_x + n_y + n_z - d)**3 / (6 * n_x * n_y * n_z))\n",
    "v3"
   ]
  },
  {
   "cell_type": "markdown",
   "metadata": {},
   "source": [
    "Whole cube with trirectangular tetrahedron subtracted at corner $(1, 1, 1)$."
   ]
  },
  {
   "cell_type": "markdown",
   "metadata": {},
   "source": [
    "### Case 4"
   ]
  },
  {
   "cell_type": "code",
   "execution_count": 12,
   "metadata": {},
   "outputs": [
    {
     "data": {
      "image/png": "[encoded data removed]",
      "text/latex": [
       "$$8$$"
      ],
      "text/plain": [
       "8"
      ]
     },
     "execution_count": 12,
     "metadata": {},
     "output_type": "execute_result"
    }
   ],
   "source": [
    "s(area_integral(1, -1, -1, 1, 1, -1, 1))"
   ]
  },
  {
   "cell_type": "markdown",
   "metadata": {},
   "source": [
    "The whole cube is inside the half space. No problems here."
   ]
  }
 ],
 "metadata": {
  "kernelspec": {
   "display_name": "Python 3",
   "language": "python3.6",
   "name": "python3"
  },
  "language_info": {
   "codemirror_mode": {
    "name": "ipython",
    "version": 3
   },
   "file_extension": ".py",
   "mimetype": "text/x-python",
   "name": "python",
   "nbconvert_exporter": "python",
   "pygments_lexer": "ipython3",
   "version": "3.6.1"
  }
 },
 "nbformat": 4,
 "nbformat_minor": 2
}
