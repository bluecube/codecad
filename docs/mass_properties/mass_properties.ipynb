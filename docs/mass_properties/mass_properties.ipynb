{
 "cells": [
  {
   "cell_type": "code",
   "execution_count": 1,
   "metadata": {},
   "outputs": [
    {
     "data": {
      "image/png": "[encoded data removed]",
      "text/latex": [
       "$$\\left ( s, \\quad w_{n}\\right )$$"
      ],
      "text/plain": [
       "(s, wₙ)"
      ]
     },
     "execution_count": 1,
     "metadata": {},
     "output_type": "execute_result"
    }
   ],
   "source": [
    "import math\n",
    "import sympy\n",
    "sympy.init_printing()\n",
    "sympy.var(\"i, j, k, i_n, j_n, k_n, m, n\", integer=True, positive=True)\n",
    "sympy.var(\"x, y, z, x0, y0, z0\", real=True)\n",
    "sympy.var(\"s, w_n\", positive=True)"
   ]
  },
  {
   "cell_type": "markdown",
   "metadata": {},
   "source": [
    "# Block integrals"
   ]
  },
  {
   "cell_type": "code",
   "execution_count": 2,
   "metadata": {
    "collapsed": true
   },
   "outputs": [],
   "source": [
    "def block_integral(expr):\n",
    "    return sympy.integrate(expr, (x, x0 - s / 2, x0 + s / 2), (y, y0 - s / 2, y0 + s / 2), (z, z0 - s / 2, z0 + s /2)).expand().simplify()"
   ]
  },
  {
   "cell_type": "code",
   "execution_count": 3,
   "metadata": {},
   "outputs": [
    {
     "data": {
      "image/png": "[encoded data removed]",
      "text/latex": [
       "$$s^{3}$$"
      ],
      "text/plain": [
       " 3\n",
       "s "
      ]
     },
     "execution_count": 3,
     "metadata": {},
     "output_type": "execute_result"
    }
   ],
   "source": [
    "block_integral(1)"
   ]
  },
  {
   "cell_type": "code",
   "execution_count": 4,
   "metadata": {},
   "outputs": [
    {
     "data": {
      "image/png": "[encoded data removed]",
      "text/latex": [
       "$$s^{3} x_{0}$$"
      ],
      "text/plain": [
       " 3   \n",
       "s ⋅x₀"
      ]
     },
     "execution_count": 4,
     "metadata": {},
     "output_type": "execute_result"
    }
   ],
   "source": [
    "block_integral(x)"
   ]
  },
  {
   "cell_type": "code",
   "execution_count": 5,
   "metadata": {},
   "outputs": [
    {
     "data": {
      "image/png": "[encoded data removed]",
      "text/latex": [
       "$$s^{3} \\left(\\frac{s^{2}}{12} + x_{0}^{2}\\right)$$"
      ],
      "text/plain": [
       "   ⎛ 2      ⎞\n",
       " 3 ⎜s      2⎟\n",
       "s ⋅⎜── + x₀ ⎟\n",
       "   ⎝12      ⎠"
      ]
     },
     "execution_count": 5,
     "metadata": {},
     "output_type": "execute_result"
    }
   ],
   "source": [
    "block_integral(x * x)"
   ]
  },
  {
   "cell_type": "code",
   "execution_count": 6,
   "metadata": {},
   "outputs": [
    {
     "data": {
      "image/png": "[encoded data removed]",
      "text/latex": [
       "$$s^{3} x_{0} y_{0}$$"
      ],
      "text/plain": [
       " 3      \n",
       "s ⋅x₀⋅y₀"
      ]
     },
     "execution_count": 6,
     "metadata": {},
     "output_type": "execute_result"
    }
   ],
   "source": [
    "block_integral(x * y)"
   ]
  },
  {
   "cell_type": "markdown",
   "metadata": {},
   "source": [
    "# Converting index sums to integrals:"
   ]
  },
  {
   "cell_type": "code",
   "execution_count": 7,
   "metadata": {
    "collapsed": true
   },
   "outputs": [],
   "source": [
    "def sub_block_integral(expr):\n",
    "    return sympy.integrate(expr, (x, x0 + s * i_n, x0 + s * i_n + s), (y, y0 + s * j_n, y0 + s * j_n + s), (z, z0 + s * k_n, z0 + s * k_n + s)).expand().simplify()"
   ]
  },
  {
   "cell_type": "code",
   "execution_count": 8,
   "metadata": {},
   "outputs": [
    {
     "data": {
      "image/png": "[encoded data removed]",
      "text/latex": [
       "$$s^{3}$$"
      ],
      "text/plain": [
       " 3\n",
       "s "
      ]
     },
     "execution_count": 8,
     "metadata": {},
     "output_type": "execute_result"
    }
   ],
   "source": [
    "sub_block_integral(1)"
   ]
  },
  {
   "cell_type": "code",
   "execution_count": 9,
   "metadata": {},
   "outputs": [
    {
     "data": {
      "image/png": "[encoded data removed]",
      "text/latex": [
       "$$s^{3} \\left(i_{n} s + \\frac{s}{2} + x_{0}\\right)$$"
      ],
      "text/plain": [
       " 3 ⎛       s     ⎞\n",
       "s ⋅⎜iₙ⋅s + ─ + x₀⎟\n",
       "   ⎝       2     ⎠"
      ]
     },
     "execution_count": 9,
     "metadata": {},
     "output_type": "execute_result"
    }
   ],
   "source": [
    "sub_block_integral(x)"
   ]
  },
  {
   "cell_type": "code",
   "execution_count": 10,
   "metadata": {},
   "outputs": [
    {
     "data": {
      "image/png": "[encoded data removed]",
      "text/latex": [
       "$$s^{3} \\left(i_{n}^{2} s^{2} + i_{n} s^{2} + 2 i_{n} s x_{0} + \\frac{s^{2}}{3} + s x_{0} + x_{0}^{2}\\right)$$"
      ],
      "text/plain": [
       "   ⎛                              2             ⎞\n",
       " 3 ⎜  2  2       2               s             2⎟\n",
       "s ⋅⎜iₙ ⋅s  + iₙ⋅s  + 2⋅iₙ⋅s⋅x₀ + ── + s⋅x₀ + x₀ ⎟\n",
       "   ⎝                             3              ⎠"
      ]
     },
     "execution_count": 10,
     "metadata": {},
     "output_type": "execute_result"
    }
   ],
   "source": [
    "sub_block_integral(x**2)"
   ]
  },
  {
   "cell_type": "code",
   "execution_count": 11,
   "metadata": {},
   "outputs": [
    {
     "data": {
      "image/png": "[encoded data removed]",
      "text/latex": [
       "$$s^{3} \\left(i_{n} j_{n} s^{2} + \\frac{i_{n} s^{2}}{2} + i_{n} s y_{0} + \\frac{j_{n} s^{2}}{2} + j_{n} s x_{0} + \\frac{s^{2}}{4} + \\frac{s x_{0}}{2} + \\frac{s y_{0}}{2} + x_{0} y_{0}\\right)$$"
      ],
      "text/plain": [
       "   ⎛               2                 2              2                      ⎞\n",
       " 3 ⎜       2   iₙ⋅s              jₙ⋅s              s    s⋅x₀   s⋅y₀        ⎟\n",
       "s ⋅⎜iₙ⋅jₙ⋅s  + ───── + iₙ⋅s⋅y₀ + ───── + jₙ⋅s⋅x₀ + ── + ──── + ──── + x₀⋅y₀⎟\n",
       "   ⎝             2                 2               4     2      2          ⎠"
      ]
     },
     "execution_count": 11,
     "metadata": {},
     "output_type": "execute_result"
    }
   ],
   "source": [
    "sub_block_integral(x * y)"
   ]
  },
  {
   "cell_type": "markdown",
   "metadata": {},
   "source": [
    "# Index sum limits"
   ]
  },
  {
   "cell_type": "code",
   "execution_count": 12,
   "metadata": {
    "collapsed": true
   },
   "outputs": [],
   "source": [
    "def block_sum_max(expr):\n",
    "    return sympy.summation(expr, (i, n - m, n-1), (j, n - m, n-1), (k, n - m, n-1)).expand().simplify()"
   ]
  },
  {
   "cell_type": "code",
   "execution_count": 13,
   "metadata": {},
   "outputs": [
    {
     "data": {
      "image/png": "[encoded data removed]",
      "text/latex": [
       "$$m^{3}$$"
      ],
      "text/plain": [
       " 3\n",
       "m "
      ]
     },
     "execution_count": 13,
     "metadata": {},
     "output_type": "execute_result"
    }
   ],
   "source": [
    "block_sum_max(1)"
   ]
  },
  {
   "cell_type": "code",
   "execution_count": 14,
   "metadata": {},
   "outputs": [
    {
     "data": {
      "image/png": "[encoded data removed]",
      "text/latex": [
       "$$\\frac{m^{3}}{2} \\left(- m + 2 n - 1\\right)$$"
      ],
      "text/plain": [
       " 3               \n",
       "m ⋅(-m + 2⋅n - 1)\n",
       "─────────────────\n",
       "        2        "
      ]
     },
     "execution_count": 14,
     "metadata": {},
     "output_type": "execute_result"
    }
   ],
   "source": [
    "block_sum_max(i)"
   ]
  },
  {
   "cell_type": "code",
   "execution_count": 15,
   "metadata": {},
   "outputs": [
    {
     "data": {
      "image/png": "[encoded data removed]",
      "text/latex": [
       "$$m^{3} \\left(\\frac{m^{2}}{3} - m n + \\frac{m}{2} + n^{2} - n + \\frac{1}{6}\\right)$$"
      ],
      "text/plain": [
       "   ⎛ 2                       ⎞\n",
       " 3 ⎜m          m    2       1⎟\n",
       "m ⋅⎜── - m⋅n + ─ + n  - n + ─⎟\n",
       "   ⎝3          2            6⎠"
      ]
     },
     "execution_count": 15,
     "metadata": {},
     "output_type": "execute_result"
    }
   ],
   "source": [
    "block_sum_max(i * i)"
   ]
  },
  {
   "cell_type": "code",
   "execution_count": 16,
   "metadata": {},
   "outputs": [
    {
     "data": {
      "image/png": "[encoded data removed]",
      "text/latex": [
       "$$m^{3} \\left(\\frac{m^{2}}{4} - m n + \\frac{m}{2} + n^{2} - n + \\frac{1}{4}\\right)$$"
      ],
      "text/plain": [
       "   ⎛ 2                       ⎞\n",
       " 3 ⎜m          m    2       1⎟\n",
       "m ⋅⎜── - m⋅n + ─ + n  - n + ─⎟\n",
       "   ⎝4          2            4⎠"
      ]
     },
     "execution_count": 16,
     "metadata": {},
     "output_type": "execute_result"
    }
   ],
   "source": [
    "block_sum_max(i * j)"
   ]
  },
  {
   "cell_type": "code",
   "execution_count": 17,
   "metadata": {},
   "outputs": [
    {
     "data": {
      "image/png": "[encoded data removed]",
      "text/latex": [
       "$$m^{3} \\left(\\frac{m^{2}}{3} - m n + \\frac{m}{2} + n^{2} - n + \\frac{1}{6}\\right)$$"
      ],
      "text/plain": [
       "   ⎛ 2                       ⎞\n",
       " 3 ⎜m          m    2       1⎟\n",
       "m ⋅⎜── - m⋅n + ─ + n  - n + ─⎟\n",
       "   ⎝3          2            6⎠"
      ]
     },
     "execution_count": 17,
     "metadata": {},
     "output_type": "execute_result"
    }
   ],
   "source": [
    "sympy.Max(block_sum_max(i * j), block_sum_max(i * i))"
   ]
  }
 ],
 "metadata": {
  "kernelspec": {
   "display_name": "Python 3",
   "language": "python3.6",
   "name": "python3"
  },
  "language_info": {
   "codemirror_mode": {
    "name": "ipython",
    "version": 3
   },
   "file_extension": ".py",
   "mimetype": "text/x-python",
   "name": "python",
   "nbconvert_exporter": "python",
   "pygments_lexer": "ipython3",
   "version": "3.6.1"
  }
 },
 "nbformat": 4,
 "nbformat_minor": 2
}
